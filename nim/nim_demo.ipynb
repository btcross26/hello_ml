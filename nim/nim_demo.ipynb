{
 "cells": [
  {
   "cell_type": "code",
   "execution_count": 1,
   "id": "f5f17d53",
   "metadata": {},
   "outputs": [],
   "source": [
    "import numpy as np\n",
    "from sklearn.metrics import roc_auc_score\n",
    "\n",
    "%load_ext nim_magic"
   ]
  },
  {
   "cell_type": "markdown",
   "id": "f9c914f8",
   "metadata": {},
   "source": [
    "## Uniform Call Syntax"
   ]
  },
  {
   "cell_type": "code",
   "execution_count": 2,
   "id": "93b7a620",
   "metadata": {},
   "outputs": [
    {
     "name": "stdout",
     "output_type": "stream",
     "text": [
      "camelcase: bob\n",
      "snake_case: bob\n",
      "all lower: bob\n"
     ]
    }
   ],
   "source": [
    "%%inim\n",
    "\n",
    "let\n",
    "  bobDaly: string = \"bob\"\n",
    "        \n",
    "echo \"camelcase: \" & bobDaly\n",
    "echo \"snake_case: \" & bob_daly\n",
    "echo \"all lower: \" & bobdaly"
   ]
  },
  {
   "cell_type": "markdown",
   "id": "fce5489f",
   "metadata": {},
   "source": [
    "## Fibonacci Examples"
   ]
  },
  {
   "cell_type": "markdown",
   "id": "cb1735e1",
   "metadata": {},
   "source": [
    "### Example 1"
   ]
  },
  {
   "cell_type": "code",
   "execution_count": 3,
   "id": "2b7d2b2c",
   "metadata": {},
   "outputs": [],
   "source": [
    "# python implementation\n",
    "def fib1(n):\n",
    "    if n == 0:\n",
    "        return 0\n",
    "    elif n == 1:\n",
    "        return 1\n",
    "    else:\n",
    "        return fib1(n - 2) + fib1(n - 1)"
   ]
  },
  {
   "cell_type": "code",
   "execution_count": 4,
   "id": "783f1571",
   "metadata": {},
   "outputs": [],
   "source": [
    "%%nimpy --opt:speed\n",
    "\n",
    "proc nim_fib1(n: int64): int64 {.exportpy} =\n",
    "    if n == 0:\n",
    "        return 0\n",
    "    elif n == 1:\n",
    "        return 1\n",
    "    else:\n",
    "        return nim_fib1(n - 2) + nim_fib1(n - 1)"
   ]
  },
  {
   "cell_type": "code",
   "execution_count": 5,
   "id": "ac0c22b9",
   "metadata": {},
   "outputs": [
    {
     "data": {
      "text/plain": [
       "9227465"
      ]
     },
     "execution_count": 5,
     "metadata": {},
     "output_type": "execute_result"
    }
   ],
   "source": [
    "fib1(35)   # python"
   ]
  },
  {
   "cell_type": "code",
   "execution_count": 6,
   "id": "10765430",
   "metadata": {},
   "outputs": [
    {
     "data": {
      "text/plain": [
       "9227465"
      ]
     },
     "execution_count": 6,
     "metadata": {},
     "output_type": "execute_result"
    }
   ],
   "source": [
    "nim_fib1(35)   # nim"
   ]
  },
  {
   "cell_type": "code",
   "execution_count": 7,
   "id": "67609734",
   "metadata": {},
   "outputs": [
    {
     "name": "stdout",
     "output_type": "stream",
     "text": [
      "5.1 s ± 25.5 ms per loop (mean ± std. dev. of 7 runs, 1 loop each)\n"
     ]
    }
   ],
   "source": [
    "%%timeit   # python\n",
    "fib1(35)"
   ]
  },
  {
   "cell_type": "code",
   "execution_count": 8,
   "id": "699f83a5",
   "metadata": {},
   "outputs": [
    {
     "name": "stdout",
     "output_type": "stream",
     "text": [
      "280 ms ± 3.68 ms per loop (mean ± std. dev. of 7 runs, 1 loop each)\n"
     ]
    }
   ],
   "source": [
    "%%timeit   # nim\n",
    "nim_fib1(35)"
   ]
  },
  {
   "cell_type": "code",
   "execution_count": 9,
   "id": "0c03a7fd",
   "metadata": {},
   "outputs": [
    {
     "name": "stdout",
     "output_type": "stream",
     "text": [
      "9227465\n"
     ]
    }
   ],
   "source": [
    "%%inim --opt:speed\n",
    "    \n",
    "proc nim_fib1(n: int64): int64 = # functions contain an implicit 'result' that negates the need for return\n",
    "    if n == 0:\n",
    "        result = 0\n",
    "    elif n == 1:\n",
    "        result = 1\n",
    "    else:\n",
    "        result = nim_fib1(n - 2) + nim_fib1(n - 1)\n",
    "        \n",
    "echo nim_fib1(35)"
   ]
  },
  {
   "cell_type": "markdown",
   "id": "484ae1a1",
   "metadata": {},
   "source": [
    "### Example 2"
   ]
  },
  {
   "cell_type": "code",
   "execution_count": 10,
   "id": "3142fafe",
   "metadata": {},
   "outputs": [],
   "source": [
    "# python implementation\n",
    "def fib2(n):\n",
    "    if n == 0:\n",
    "        return 0\n",
    "    elif n == 1:\n",
    "        return 1\n",
    "    else:\n",
    "        last, current = 0, 1\n",
    "        for i in range(2, n + 1):\n",
    "            value = last + current\n",
    "            last, current = current, value\n",
    "        return value"
   ]
  },
  {
   "cell_type": "code",
   "execution_count": 11,
   "id": "85442a6f",
   "metadata": {},
   "outputs": [],
   "source": [
    "%%nimpy --opt:speed\n",
    "\n",
    "# you can see scoping come into play here\n",
    "proc nim_fib2(n: int64): int64 {.exportpy.} =\n",
    "    var   # define variables\n",
    "      last, current: int64\n",
    "            \n",
    "    if n == 0:\n",
    "        result = 0\n",
    "    elif n == 1:\n",
    "        result = 1\n",
    "    else:\n",
    "        last = 0\n",
    "        current = 1\n",
    "        for i in 2..n:   # if I wanted non-includsive, use 2..<n\n",
    "            result = last + current\n",
    "            last = current\n",
    "            current = result"
   ]
  },
  {
   "cell_type": "code",
   "execution_count": 12,
   "id": "61c3cc06",
   "metadata": {},
   "outputs": [
    {
     "data": {
      "text/plain": [
       "2111485077978050"
      ]
     },
     "execution_count": 12,
     "metadata": {},
     "output_type": "execute_result"
    }
   ],
   "source": [
    "fib2(75)"
   ]
  },
  {
   "cell_type": "code",
   "execution_count": 13,
   "id": "b74b92b2",
   "metadata": {},
   "outputs": [
    {
     "data": {
      "text/plain": [
       "2111485077978050"
      ]
     },
     "execution_count": 13,
     "metadata": {},
     "output_type": "execute_result"
    }
   ],
   "source": [
    "nim_fib2(75)"
   ]
  },
  {
   "cell_type": "code",
   "execution_count": 14,
   "id": "b287f2e2",
   "metadata": {},
   "outputs": [
    {
     "name": "stdout",
     "output_type": "stream",
     "text": [
      "6.86 µs ± 63.8 ns per loop (mean ± std. dev. of 7 runs, 100,000 loops each)\n"
     ]
    }
   ],
   "source": [
    "%%timeit\n",
    "fib2(75)"
   ]
  },
  {
   "cell_type": "code",
   "execution_count": 15,
   "id": "96aae26e",
   "metadata": {},
   "outputs": [
    {
     "name": "stdout",
     "output_type": "stream",
     "text": [
      "442 ns ± 20.6 ns per loop (mean ± std. dev. of 7 runs, 1,000,000 loops each)\n"
     ]
    }
   ],
   "source": [
    "%%timeit\n",
    "nim_fib2(75)"
   ]
  },
  {
   "cell_type": "markdown",
   "id": "8ac7ff24",
   "metadata": {},
   "source": [
    "## Working with numpy"
   ]
  },
  {
   "cell_type": "markdown",
   "id": "480fcabe",
   "metadata": {},
   "source": [
    "### Read from an array, return an array"
   ]
  },
  {
   "cell_type": "code",
   "execution_count": 16,
   "id": "2cdac5c5",
   "metadata": {},
   "outputs": [],
   "source": [
    "%%nimpy -d:release -d:danger --opt:speed --passC:-ffast-math\n",
    "                \n",
    "import nimpy/raw_buffers\n",
    "\n",
    "type\n",
    "    T = float64\n",
    "    \n",
    "let np = pyImport(\"numpy\")   # import your Python implementation of numpy here\n",
    "\n",
    "proc multiply_array_by_2(npArr: PyObject): PyObject {.exportpy.} =\n",
    "    var npArr: PyObject = np.asarray(npArr, order=\"C\")\n",
    "        \n",
    "    # check the type expected\n",
    "    if $npArr.dtype != \"float64\":\n",
    "        raise newException(ValueError, \"numpy dtype should be of type float64!\")\n",
    "        \n",
    "    var\n",
    "        a = np.empty(shape=npArr.shape, dtype=\"f8\", order=\"C\")\n",
    "        n = a.size.to(int)\n",
    "        npArrBuf, aBuf: RawPyBuffer   # from nimpy\n",
    "    npArr.getBuffer(npArrBuf, PyBUF_WRITABLE or PyBUF_ND)   # from nimpy - we are accessing the passed array here\n",
    "    a.getBuffer(aBuf, PyBUF_WRITABLE or PyBUF_ND)   \n",
    "    for i in 0..<n:\n",
    "        var\n",
    "            step = uint(i * sizeof(T))\n",
    "            aMem = cast[uint](aBuf.buf) + step\n",
    "            npArrMem = cast[uint](npArrBuf) + step\n",
    "        var value = 2.0 * cast[ptr T](npArrMem)[]\n",
    "        cast[ptr T](aMem)[] = value\n",
    "    aBuf.release()      # need to free memory\n",
    "    npArrBuf.release()\n",
    "    return a"
   ]
  },
  {
   "cell_type": "code",
   "execution_count": 17,
   "id": "13909b23",
   "metadata": {},
   "outputs": [],
   "source": [
    "arr = np.arange(100).reshape((10, 10)).astype(np.float64)"
   ]
  },
  {
   "cell_type": "code",
   "execution_count": 18,
   "id": "617f739d",
   "metadata": {},
   "outputs": [
    {
     "data": {
      "text/plain": [
       "array([[  0.,   2.,   4.,   6.,   8.,  10.,  12.,  14.,  16.,  18.],\n",
       "       [ 20.,  22.,  24.,  26.,  28.,  30.,  32.,  34.,  36.,  38.],\n",
       "       [ 40.,  42.,  44.,  46.,  48.,  50.,  52.,  54.,  56.,  58.],\n",
       "       [ 60.,  62.,  64.,  66.,  68.,  70.,  72.,  74.,  76.,  78.],\n",
       "       [ 80.,  82.,  84.,  86.,  88.,  90.,  92.,  94.,  96.,  98.],\n",
       "       [100., 102., 104., 106., 108., 110., 112., 114., 116., 118.],\n",
       "       [120., 122., 124., 126., 128., 130., 132., 134., 136., 138.],\n",
       "       [140., 142., 144., 146., 148., 150., 152., 154., 156., 158.],\n",
       "       [160., 162., 164., 166., 168., 170., 172., 174., 176., 178.],\n",
       "       [180., 182., 184., 186., 188., 190., 192., 194., 196., 198.]])"
      ]
     },
     "execution_count": 18,
     "metadata": {},
     "output_type": "execute_result"
    }
   ],
   "source": [
    "2.0 * arr"
   ]
  },
  {
   "cell_type": "code",
   "execution_count": 19,
   "id": "e4221b63",
   "metadata": {},
   "outputs": [
    {
     "data": {
      "text/plain": [
       "array([[  0.,   2.,   4.,   6.,   8.,  10.,  12.,  14.,  16.,  18.],\n",
       "       [ 20.,  22.,  24.,  26.,  28.,  30.,  32.,  34.,  36.,  38.],\n",
       "       [ 40.,  42.,  44.,  46.,  48.,  50.,  52.,  54.,  56.,  58.],\n",
       "       [ 60.,  62.,  64.,  66.,  68.,  70.,  72.,  74.,  76.,  78.],\n",
       "       [ 80.,  82.,  84.,  86.,  88.,  90.,  92.,  94.,  96.,  98.],\n",
       "       [100., 102., 104., 106., 108., 110., 112., 114., 116., 118.],\n",
       "       [120., 122., 124., 126., 128., 130., 132., 134., 136., 138.],\n",
       "       [140., 142., 144., 146., 148., 150., 152., 154., 156., 158.],\n",
       "       [160., 162., 164., 166., 168., 170., 172., 174., 176., 178.],\n",
       "       [180., 182., 184., 186., 188., 190., 192., 194., 196., 198.]])"
      ]
     },
     "execution_count": 19,
     "metadata": {},
     "output_type": "execute_result"
    }
   ],
   "source": [
    "multiply_array_by_2(arr)"
   ]
  },
  {
   "cell_type": "code",
   "execution_count": 20,
   "id": "4936b709",
   "metadata": {},
   "outputs": [
    {
     "name": "stdout",
     "output_type": "stream",
     "text": [
      "1.34 µs ± 24.9 ns per loop (mean ± std. dev. of 7 runs, 1,000,000 loops each)\n"
     ]
    }
   ],
   "source": [
    "%%timeit\n",
    "2.0 * arr"
   ]
  },
  {
   "cell_type": "code",
   "execution_count": 21,
   "id": "946bfbbf",
   "metadata": {},
   "outputs": [
    {
     "name": "stdout",
     "output_type": "stream",
     "text": [
      "13.4 µs ± 122 ns per loop (mean ± std. dev. of 7 runs, 100,000 loops each)\n"
     ]
    }
   ],
   "source": [
    "%%timeit\n",
    "multiply_array_by_2(arr)"
   ]
  },
  {
   "cell_type": "markdown",
   "id": "ed41d270",
   "metadata": {},
   "source": [
    "## Somers' D Loss Approximation Example"
   ]
  },
  {
   "cell_type": "code",
   "execution_count": 22,
   "id": "45074700",
   "metadata": {},
   "outputs": [
    {
     "name": "stdout",
     "output_type": "stream",
     "text": [
      "Somers' D: 0.65432\n"
     ]
    }
   ],
   "source": [
    "np.random.seed(19)\n",
    "yp = np.random.uniform(size=10000).astype(np.float64)\n",
    "yt = np.random.binomial(1, yp).astype(np.float64)\n",
    "\n",
    "print(\"Somers' D: {:.5f}\".format(2.0 * roc_auc_score(yt, yp) - 1.0))"
   ]
  },
  {
   "cell_type": "code",
   "execution_count": 23,
   "id": "e225b2a2",
   "metadata": {},
   "outputs": [],
   "source": [
    "def sd_approx(yt, yp, alpha=1.0, m=10):\n",
    "    \"\"\"Calculate a continuous function approximation of Somers' D.\"\"\"\n",
    "    \n",
    "    # separate positive and negative values\n",
    "    pind = np.nonzero(yt == 1)[0]\n",
    "    pvec = yp[pind]\n",
    "    nind = np.nonzero(yt == 0)[0]\n",
    "    nvec = yp[nind]\n",
    "    \n",
    "    # loop to get answer\n",
    "    k = 2.0 * alpha\n",
    "    pvec = pvec ** k   # exponentiation only once\n",
    "    nvec = nvec ** k\n",
    "    loss = 0.0\n",
    "    i = 0\n",
    "    while i < pvec.shape[0]:\n",
    "        pvec_sub = pvec[i: i + m]\n",
    "        pind_sub = pind[i: i + m]\n",
    "        mat = -pvec_sub.reshape((-1, 1)) + nvec.reshape((1, -1))\n",
    "        mat /= (pvec_sub.reshape((-1, 1)) + nvec.reshape((1, - 1)))\n",
    "        loss += mat.sum()\n",
    "        i += m\n",
    "    return -loss / (pvec.shape[0] * nvec.shape[0])"
   ]
  },
  {
   "cell_type": "code",
   "execution_count": 24,
   "id": "c861540d",
   "metadata": {},
   "outputs": [
    {
     "data": {
      "text/plain": [
       "0.6537452577678036"
      ]
     },
     "execution_count": 24,
     "metadata": {},
     "output_type": "execute_result"
    }
   ],
   "source": [
    "sd_approx(yt, yp, alpha=30.0, m=1)"
   ]
  },
  {
   "cell_type": "code",
   "execution_count": 25,
   "id": "8a007c3e",
   "metadata": {},
   "outputs": [
    {
     "name": "stdout",
     "output_type": "stream",
     "text": [
      "203 ms ± 1.67 ms per loop (mean ± std. dev. of 7 runs, 1 loop each)\n"
     ]
    }
   ],
   "source": [
    "%%timeit\n",
    "sd_approx(yt, yp, alpha=30.0, m=1)"
   ]
  },
  {
   "cell_type": "code",
   "execution_count": 26,
   "id": "f4231770",
   "metadata": {},
   "outputs": [],
   "source": [
    "%%nimpy -d:release -d:danger --opt:speed --passC:-ffast-math\n",
    "\n",
    "import math\n",
    "\n",
    "# operator overloading examples with generics (arr-like ptr indexing)\n",
    "proc `[]`[T](p: ptr T, i: int): T =\n",
    "    ## Access a pointer location directly with indexing\n",
    "    let\n",
    "        size_t: uint = uint(sizeof(T))\n",
    "        mem_location: uint = cast[uint](p) + uint(i) * size_t\n",
    "    result = cast[ptr T](mem_location)[]\n",
    "    \n",
    "proc `[]=`[T](p: ptr T, i: int, val: T) =\n",
    "    ## Assign to a pointer location directly with indexing\n",
    "    let\n",
    "        size_t: uint = uint(sizeof(T))\n",
    "        mem_location: uint = cast[uint](p) + uint(i) * size_t\n",
    "    cast[ptr T](mem_location)[] = val\n",
    "    \n",
    "proc nim_sd_approx(yt, yp: PyObject, alpha: float64 = 1.0): float64 {.exportpy.} =\n",
    "    ## Approximate the numerator of Somers' D using continuous functions.\n",
    "    ##\n",
    "    ## The value is approximate in the sense that scores that are close to one another\n",
    "    ## can be 'partially' concordant or discordant. As alpha increases, the\n",
    "    ## approximation improves.\n",
    "    \n",
    "    # check that types are float64\n",
    "    if not ($yt.dtype == \"float64\" and $yp.dtype == \"float64\"):\n",
    "        raise newException(ValueError, \"numpy array dtypes must be float64\")\n",
    "        \n",
    "    # initialize buffers and buffer size\n",
    "    var\n",
    "        ytBuf: ptr float64 = cast[ptr float64](yt.ctypes.data.to(uint))\n",
    "        ypBuf: ptr float64 = cast[ptr float64](yp.ctypes.data.to(uint))\n",
    "        n: int = yt.size.to(int)   # should check that the sizes match here for safety\n",
    "        pind: seq[int] = newSeq[int]()   # to hold positive indices\n",
    "        nind: seq[int] = newSeq[int]()   # to hold negative indices\n",
    "            \n",
    "    # separate negative and positive instances\n",
    "    for idx in 0..<n:\n",
    "        if ytBuf[idx] == 1.0:\n",
    "            pind.add(idx)\n",
    "        else:\n",
    "            nind.add(idx)\n",
    "            \n",
    "    # run calculations\n",
    "    let ke: float = 2.0 * alpha\n",
    "    var ypExp: seq[float64] = newSeq[float64](n)\n",
    "    \n",
    "    # perform exponent operations only once\n",
    "    for idx in 0..<n:\n",
    "        ypExp[idx] = pow(ypBuf[idx], ke)\n",
    "        \n",
    "    # loop and calculate\n",
    "    result = 0.0\n",
    "    for p_idx in items(pind):   # items is an example of an iterator\n",
    "        var pi: float64 = ypExp[p_idx]\n",
    "        for n_idx in items(nind):\n",
    "            var pj: float = ypExp[n_idx]\n",
    "            result += (pj - pi) / (pj + pi)\n",
    "            \n",
    "    # convert to somers' d\n",
    "    result = -result / float64(len(pind) * len(nind))"
   ]
  },
  {
   "cell_type": "code",
   "execution_count": 27,
   "id": "1759f7da",
   "metadata": {},
   "outputs": [
    {
     "data": {
      "text/plain": [
       "0.6537452577699266"
      ]
     },
     "execution_count": 27,
     "metadata": {},
     "output_type": "execute_result"
    }
   ],
   "source": [
    "nim_sd_approx(yt, yp, alpha=30.0)"
   ]
  },
  {
   "cell_type": "code",
   "execution_count": 28,
   "id": "b69da478",
   "metadata": {},
   "outputs": [
    {
     "name": "stdout",
     "output_type": "stream",
     "text": [
      "47.2 ms ± 188 µs per loop (mean ± std. dev. of 7 runs, 10 loops each)\n"
     ]
    }
   ],
   "source": [
    "%%timeit\n",
    "nim_sd_approx(yt, yp, alpha=30.0)"
   ]
  },
  {
   "cell_type": "code",
   "execution_count": 29,
   "id": "8e4128a4",
   "metadata": {},
   "outputs": [
    {
     "name": "stdout",
     "output_type": "stream",
     "text": [
      "Removed temporary files used by nim_magic.\n"
     ]
    }
   ],
   "source": [
    "%nim_clear"
   ]
  }
 ],
 "metadata": {
  "kernelspec": {
   "display_name": "nim_ml",
   "language": "python",
   "name": "nim_ml"
  },
  "language_info": {
   "codemirror_mode": {
    "name": "ipython",
    "version": 3
   },
   "file_extension": ".py",
   "mimetype": "text/x-python",
   "name": "python",
   "nbconvert_exporter": "python",
   "pygments_lexer": "ipython3",
   "version": "3.8.12"
  }
 },
 "nbformat": 4,
 "nbformat_minor": 5
}
